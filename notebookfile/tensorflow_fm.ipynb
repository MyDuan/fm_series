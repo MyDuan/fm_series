{
 "cells": [
  {
   "cell_type": "code",
   "execution_count": 1,
   "metadata": {
    "collapsed": false
   },
   "outputs": [],
   "source": [
    "import tensorflow as tf\n",
    "\n",
    "from lib import tensorflow_fm as tffm\n",
    "from lib import build_data\n"
   ]
  },
  {
   "cell_type": "heading",
   "metadata": {},
   "level": 1,
   "source": [
    "FM Linear Regression"
   ]
  },
  {
   "cell_type": "code",
   "execution_count": 2,
   "metadata": {
    "collapsed": false
   },
   "outputs": [
    {
     "name": "stdout",
     "output_type": "stream",
     "text": [
      "step[0]  loss : 549.4172973632812\n"
     ]
    },
    {
     "name": "stdout",
     "output_type": "stream",
     "text": [
      "step[300]  loss : 138.6746063232422\n"
     ]
    },
    {
     "name": "stdout",
     "output_type": "stream",
     "text": [
      "step[600]  loss : 21.10099983215332\n"
     ]
    },
    {
     "name": "stdout",
     "output_type": "stream",
     "text": [
      "step[900]  loss : 1.7887516021728516\n"
     ]
    },
    {
     "name": "stdout",
     "output_type": "stream",
     "text": [
      "step[1200]  loss : 0.18413423001766205\n"
     ]
    },
    {
     "name": "stdout",
     "output_type": "stream",
     "text": [
      "step[1500]  loss : 0.10332301259040833\n"
     ]
    },
    {
     "name": "stdout",
     "output_type": "stream",
     "text": [
      "step[1800]  loss : 0.08148030936717987\n"
     ]
    },
    {
     "name": "stdout",
     "output_type": "stream",
     "text": [
      "step[2100]  loss : 0.06198037788271904\n"
     ]
    },
    {
     "name": "stdout",
     "output_type": "stream",
     "text": [
      "step[2400]  loss : 0.04479362443089485\n"
     ]
    },
    {
     "name": "stdout",
     "output_type": "stream",
     "text": [
      "step[2700]  loss : 0.030532484874129295\n"
     ]
    },
    {
     "data": {
      "image/png": "[encoded data removed]",
      "text/plain": [
       "<Figure size 1080x288 with 2 Axes>"
      ]
     },
     "metadata": {},
     "output_type": "display_data"
    }
   ],
   "source": [
    "learning_rate = 0.01\n",
    "epoch = 3000\n",
    "x_train_data, y_train_data = build_data.build_line()\n",
    "x = tf.placeholder(shape=[None, 1], dtype=tf.float32)\n",
    "y = tf.placeholder(shape=[None, 1], dtype=tf.float32)\n",
    "tffm.run(x, y, learning_rate, epoch, 1, 30, 'regr', x_train_data, y_train_data)"
   ]
  },
  {
   "cell_type": "heading",
   "metadata": {},
   "level": 1,
   "source": [
    "FM Binary Classification"
   ]
  },
  {
   "cell_type": "code",
   "execution_count": 3,
   "metadata": {
    "collapsed": false
   },
   "outputs": [
    {
     "name": "stdout",
     "output_type": "stream",
     "text": [
      "step[0]  loss : 64.40174102783203\n"
     ]
    },
    {
     "name": "stdout",
     "output_type": "stream",
     "text": [
      "step[300]  loss : 0.03442062437534332\n"
     ]
    },
    {
     "name": "stdout",
     "output_type": "stream",
     "text": [
      "step[600]  loss : 0.012274887412786484\n"
     ]
    },
    {
     "name": "stdout",
     "output_type": "stream",
     "text": [
      "step[900]  loss : 0.006334800738841295\n"
     ]
    },
    {
     "name": "stdout",
     "output_type": "stream",
     "text": [
      "step[1200]  loss : 0.0038593471981585026\n"
     ]
    },
    {
     "name": "stdout",
     "output_type": "stream",
     "text": [
      "step[1500]  loss : 0.002579767256975174\n"
     ]
    },
    {
     "name": "stdout",
     "output_type": "stream",
     "text": [
      "step[1800]  loss : 0.001828439300879836\n"
     ]
    },
    {
     "name": "stdout",
     "output_type": "stream",
     "text": [
      "step[2100]  loss : 0.0013486105017364025\n"
     ]
    },
    {
     "name": "stdout",
     "output_type": "stream",
     "text": [
      "step[2400]  loss : 0.0010236876551061869\n"
     ]
    },
    {
     "name": "stdout",
     "output_type": "stream",
     "text": [
      "step[2700]  loss : 0.0007927591796033084\n"
     ]
    },
    {
     "name": "stdout",
     "output_type": "stream",
     "text": [
      "accuracy: 1.0\n"
     ]
    },
    {
     "data": {
      "image/png": "[encoded data removed]",
      "text/plain": [
       "<Figure size 432x288 with 1 Axes>"
      ]
     },
     "metadata": {},
     "output_type": "display_data"
    }
   ],
   "source": [
    "label_train, features_train = build_data.build_iris(\"./data/iris_2class.txt\")\n",
    "\n",
    "learning_rate = 0.01\n",
    "epoch = 3000\n",
    "loss_list = []\n",
    "x = tf.placeholder(shape=[None, 4], dtype=tf.float32)\n",
    "y = tf.placeholder(shape=[None, 1], dtype=tf.float32)\n",
    "tffm.run(x, y, learning_rate, epoch, 4, 30, '2_class', features_train, label_train)"
   ]
  },
  {
   "cell_type": "code",
   "execution_count": null,
   "metadata": {},
   "outputs": [],
   "source": []
  }
 ],
 "metadata": {
  "kernelspec": {
   "display_name": "Python 2",
   "language": "python",
   "name": "python2"
  },
  "language_info": {
   "codemirror_mode": {
    "name": "ipython",
    "version": 2
   },
   "file_extension": ".py",
   "mimetype": "text/x-python",
   "name": "python",
   "nbconvert_exporter": "python",
   "pygments_lexer": "ipython2",
   "version": "2.7.6"
  }
 },
 "nbformat": 4,
 "nbformat_minor": 0
}
