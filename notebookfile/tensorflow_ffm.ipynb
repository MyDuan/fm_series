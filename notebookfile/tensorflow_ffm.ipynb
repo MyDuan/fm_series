{
 "cells": [
  {
   "cell_type": "code",
   "execution_count": 1,
   "metadata": {
    "collapsed": true
   },
   "outputs": [],
   "source": [
    "import tensorflow as tf\n",
    "from lib import tensorflow_ffm as tfffm\n",
    "from lib import build_data"
   ]
  },
  {
   "cell_type": "code",
   "execution_count": 2,
   "metadata": {
    "collapsed": false
   },
   "outputs": [
    {
     "name": "stdout",
     "output_type": "stream",
     "text": [
      "step[0]  loss : 6419.291015625\n"
     ]
    },
    {
     "name": "stdout",
     "output_type": "stream",
     "text": [
      "step[1000]  loss : 15.460990905761719\n"
     ]
    },
    {
     "name": "stdout",
     "output_type": "stream",
     "text": [
      "step[2000]  loss : 4.80912971496582\n"
     ]
    },
    {
     "name": "stdout",
     "output_type": "stream",
     "text": [
      "step[3000]  loss : 2.1911532878875732\n"
     ]
    },
    {
     "name": "stdout",
     "output_type": "stream",
     "text": [
      "step[4000]  loss : 1.1528589725494385\n"
     ]
    },
    {
     "name": "stdout",
     "output_type": "stream",
     "text": [
      "step[5000]  loss : 0.650165855884552\n"
     ]
    },
    {
     "name": "stdout",
     "output_type": "stream",
     "text": [
      "step[6000]  loss : 0.38053128123283386\n"
     ]
    },
    {
     "name": "stdout",
     "output_type": "stream",
     "text": [
      "step[7000]  loss : 0.22740739583969116\n"
     ]
    },
    {
     "name": "stdout",
     "output_type": "stream",
     "text": [
      "step[8000]  loss : 0.13754528760910034\n"
     ]
    },
    {
     "name": "stdout",
     "output_type": "stream",
     "text": [
      "step[9000]  loss : 0.08376285433769226\n"
     ]
    },
    {
     "name": "stdout",
     "output_type": "stream",
     "text": [
      "accuracy: 1.0\n"
     ]
    },
    {
     "data": {
      "image/png": "[encoded data removed]",
      "text/plain": [
       "<Figure size 432x288 with 1 Axes>"
      ]
     },
     "metadata": {},
     "output_type": "display_data"
    }
   ],
   "source": [
    "label_train, features_train = build_data.build_iris(\"./data/iris_2class.txt\")\n",
    "\n",
    "learning_rate = 0.02\n",
    "epoch = 10000\n",
    "loss_list = []\n",
    "x = tf.placeholder(shape=[None, 4], dtype=tf.float32)\n",
    "y = tf.placeholder(shape=[None, 1], dtype=tf.float32)\n",
    "\n",
    "tfffm.run('model_1', x, y, learning_rate, epoch, 4, 4, 4, '2_class', \n",
    "    features_train, label_train)"
   ]
  },
  {
   "cell_type": "code",
   "execution_count": 3,
   "metadata": {
    "collapsed": false
   },
   "outputs": [
    {
     "name": "stdout",
     "output_type": "stream",
     "text": [
      "step[0]  loss : 5823.0849609375\n"
     ]
    },
    {
     "name": "stdout",
     "output_type": "stream",
     "text": [
      "step[1000]  loss : 86.171875\n"
     ]
    },
    {
     "name": "stdout",
     "output_type": "stream",
     "text": [
      "step[2000]  loss : 27.418170928955078\n"
     ]
    },
    {
     "name": "stdout",
     "output_type": "stream",
     "text": [
      "step[3000]  loss : 12.347626686096191\n"
     ]
    },
    {
     "name": "stdout",
     "output_type": "stream",
     "text": [
      "step[4000]  loss : 6.39983606338501\n"
     ]
    },
    {
     "name": "stdout",
     "output_type": "stream",
     "text": [
      "step[5000]  loss : 3.555661201477051\n"
     ]
    },
    {
     "name": "stdout",
     "output_type": "stream",
     "text": [
      "step[6000]  loss : 2.0513153076171875\n"
     ]
    },
    {
     "name": "stdout",
     "output_type": "stream",
     "text": [
      "step[7000]  loss : 1.2089602947235107\n"
     ]
    },
    {
     "name": "stdout",
     "output_type": "stream",
     "text": [
      "step[8000]  loss : 0.7214865684509277\n"
     ]
    },
    {
     "name": "stdout",
     "output_type": "stream",
     "text": [
      "step[9000]  loss : 0.43367695808410645\n"
     ]
    },
    {
     "name": "stdout",
     "output_type": "stream",
     "text": [
      "accuracy: 1.0\n"
     ]
    },
    {
     "data": {
      "image/png": "[encoded data removed]",
      "text/plain": [
       "<Figure size 432x288 with 1 Axes>"
      ]
     },
     "metadata": {},
     "output_type": "display_data"
    }
   ],
   "source": [
    "label_train, features_train = build_data.build_iris_with_field(\"./data/iris_2class.txt\")\n",
    "\n",
    "learning_rate = 0.02\n",
    "epoch = 10000\n",
    "loss_list = []\n",
    "x = tf.placeholder(shape=[None, 8], dtype=tf.float32)\n",
    "y = tf.placeholder(shape=[None, 1], dtype=tf.float32)\n",
    "tfffm.run('model_2', x, y, learning_rate, epoch, 8, 4, 10, '2_class', \n",
    "    features_train, label_train)"
   ]
  },
  {
   "cell_type": "code",
   "execution_count": null,
   "metadata": {},
   "outputs": [],
   "source": []
  }
 ],
 "metadata": {
  "kernelspec": {
   "display_name": "Python 2",
   "language": "python",
   "name": "python2"
  },
  "language_info": {
   "codemirror_mode": {
    "name": "ipython",
    "version": 2
   },
   "file_extension": ".py",
   "mimetype": "text/x-python",
   "name": "python",
   "nbconvert_exporter": "python",
   "pygments_lexer": "ipython2",
   "version": "2.7.6"
  }
 },
 "nbformat": 4,
 "nbformat_minor": 0
}
