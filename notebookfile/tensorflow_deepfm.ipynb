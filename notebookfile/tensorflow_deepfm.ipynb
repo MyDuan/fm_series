{
 "cells": [
  {
   "cell_type": "code",
   "execution_count": 1,
   "metadata": {
    "collapsed": false
   },
   "outputs": [],
   "source": [
    "import tensorflow as tf\n",
    "\n",
    "from lib import tensorflow_deepfm as deepfm\n",
    "from lib import build_data"
   ]
  },
  {
   "cell_type": "code",
   "execution_count": 2,
   "metadata": {
    "collapsed": false
   },
   "outputs": [
    {
     "name": "stdout",
     "output_type": "stream",
     "text": [
      "step[0]  loss : 80.87740325927734\nstep[5]  loss : 0.9781836867332458\nstep[10]  loss : 7.545970584033057e-05\nstep[15]  loss : 1.1920928955078125e-07\nstep[20]  loss : -0.0\nstep[25]  loss : -0.0\nstep[30]  loss : -0.0\nstep[35]  loss : -0.0\nstep[40]  loss : -0.0\nstep[45]  loss : -0.0\naccuracy: 1.0\n"
     ]
    },
    {
     "data": {
      "image/png": "[encoded data removed]",
      "text/plain": [
       "<Figure size 432x288 with 1 Axes>"
      ]
     },
     "metadata": {},
     "output_type": "display_data"
    }
   ],
   "source": [
    "label_train, features_train, feild_of_train = build_data.build_iris_deep_fm(\"./data/iris_2class.txt\")\n",
    "learning_rate = 0.01\n",
    "epoch = 50\n",
    "loss_list = []\n",
    "x = tf.placeholder(shape=[None, 4], dtype=tf.float32)\n",
    "feild = tf.placeholder(shape=[None, 4], dtype=tf.int32)\n",
    "y = tf.placeholder(shape=[None, 1], dtype=tf.float32)\n",
    "deepfm.run(x, feild, y, learning_rate, epoch, 4, 30, '2_class', features_train, feild_of_train, label_train)"
   ]
  },
  {
   "cell_type": "code",
   "execution_count": null,
   "metadata": {},
   "outputs": [],
   "source": []
  }
 ],
 "metadata": {
  "kernelspec": {
   "display_name": "Python 2",
   "language": "python",
   "name": "python2"
  },
  "language_info": {
   "codemirror_mode": {
    "name": "ipython",
    "version": 2
   },
   "file_extension": ".py",
   "mimetype": "text/x-python",
   "name": "python",
   "nbconvert_exporter": "python",
   "pygments_lexer": "ipython2",
   "version": "2.7.6"
  }
 },
 "nbformat": 4,
 "nbformat_minor": 0
}
