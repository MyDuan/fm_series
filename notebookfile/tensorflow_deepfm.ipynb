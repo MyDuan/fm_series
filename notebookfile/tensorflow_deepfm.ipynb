{
 "cells": [
  {
   "cell_type": "code",
   "execution_count": 1,
   "metadata": {
    "collapsed": false
   },
   "outputs": [],
   "source": [
    "import numpy as np\n",
    "import matplotlib.pyplot as plt\n",
    "import tensorflow as tf"
   ]
  },
  {
   "cell_type": "code",
   "execution_count": 2,
   "metadata": {
    "collapsed": false
   },
   "outputs": [],
   "source": [
    "def build_iris(path):\n",
    "    data = open(path)\n",
    "    label_list = []\n",
    "    features_list = []\n",
    "    for line in data.readlines():\n",
    "        feature_label = line.strip().split(',')\n",
    "        label_list.append(int(feature_label[-1]))\n",
    "        features = list(map(lambda x: float(x), feature_label[0:-1]))\n",
    "        features_list.append(features)\n",
    "\n",
    "    features_train = np.array(features_list).reshape([100, 4])\n",
    "    label_train = np.array(label_list).reshape([100, 1])\n",
    "    return label_train, features_train"
   ]
  },
  {
   "cell_type": "code",
   "execution_count": 3,
   "metadata": {},
   "outputs": [],
   "source": [
    "def model(x, n, k):\n",
    "    \n",
    "    # fm part\n",
    "    \n",
    "    w = tf.Variable(tf.truncated_normal([n, 1], stddev=0.1), name='w')\n",
    "    v = tf.Variable(tf.truncated_normal([n, k], stddev=0.1), name='v')\n",
    "    temp_1 = tf.matmul(x, v)\n",
    "    temp_2 = tf.matmul(tf.square(x), tf.square(v))\n",
    "    interaction = tf.mu\n",
    "    ltiply(0.5, tf.reduce_sum(tf.multiply(temp_1, temp_1) - temp_2, 1, keepdims=True))\n",
    "    fm_part = tf.matmul(x, w) + interaction\n",
    "    \n",
    "    # deep part\n",
    "    input_size = n * k\n",
    "    \n",
    "    layer_0 = tf.Variable(tf.truncated_normal([input_size, 256], stddev=0.1), name='layer_0')\n",
    "    bias_0 = tf.Variable(tf.truncated_normal([1, 256], stddev=0.1), name='bias_0')\n",
    "    layer_1 = tf.Variable(tf.truncated_normal([256, 128], stddev=0.1), name='layer_1')\n",
    "    bias_1 = tf.Variable(tf.truncated_normal([1, 128], stddev=0.1), name='bias_1')\n",
    "    layer_2 = tf.Variable(tf.truncated_normal([128, 64], stddev=0.1), name='layer_2')\n",
    "    bias_2 = tf.Variable(tf.truncated_normal([1, 64], stddev=0.1), name='bias_2')\n",
    "    \n",
    "    embedding_part = tf.multiply(self.embedding_index,\n",
    "                                          tf.reshape(self.feat_value, [-1, self.field_size, 1]))\n",
    "    embedding = tf.add(tf.matmul(temp_1, layer_0), bias_0)\n",
    "    embedding = tf.add(tf.matmul(embedding, layer_1), bias_1)\n",
    "    embedding = tf.add(tf.matmul(embedding, layer_2), bias_2)\n",
    "    embedding = tf.nn.relu(embedding)\n",
    "    \n",
    "    # last layer of all parts\n",
    "    last_layer_size = 64 + k + f\n",
    "    last_layer = tf.Variable(tf.truncated_normal([last_layer_size, 1], stddev=0.1), name='last_layer')\n",
    "    last_bias = tf.Variable([0.01], trainable=True, name='last_bias')\n",
    "    din_all = tf.concat([fm_part, embedding], axis=1)\n",
    "    output = tf.add(tf.matmul(din_all, last_layer), last_bias)\n",
    "\n",
    "    return output\n",
    "\n",
    "\n",
    "def loss_func(output, y, train_type):\n",
    "    if train_type == 'regr':\n",
    "        loss = tf.reduce_mean(tf.square(output - y))\n",
    "    elif train_type == '2_class':\n",
    "        loss = -tf.reduce_sum(tf.log(tf.sigmoid(tf.multiply(output, y))))\n",
    "    return loss\n",
    "\n",
    "\n",
    "def training(loss, learning_rate):\n",
    "    train = tf.train.AdamOptimizer(learning_rate).minimize(loss)\n",
    "    return train\n",
    "\n",
    "\n",
    "def run(x, y, learning_rate, epoch, n, k, train_type, x_train_data, y_train_data):\n",
    "    \n",
    "    feed_dict = {x: x_train_data, y: y_train_data}\n",
    "    with tf.Session() as sess:\n",
    "        output = model(x, n, k, )\n",
    "        loss = loss_func(output, y, train_type)\n",
    "        train = training(loss, learning_rate)\n",
    "        \n",
    "        init = tf.global_variables_initializer()\n",
    "        sess.run(init)\n",
    "        for i in range(epoch):\n",
    "            sess.run(train, feed_dict=feed_dict)\n",
    "            loss_results = sess.run(loss, feed_dict=feed_dict)\n",
    "            loss_list.append(loss_results)\n",
    "            if i % (epoch/10) == 0:\n",
    "                print('step[{}]  loss : {}'.format(i, loss_results))\n",
    "        y_results = sess.run(output, feed_dict=feed_dict)\n",
    "        if train_type == 'regr':\n",
    "            plot_graph(x_train_data, y_train_data, y_results)\n",
    "        elif train_type == '2_class':\n",
    "            acc = 0\n",
    "            for i in range(len(y_results)):\n",
    "                if y_results[i][0] > 0:\n",
    "                    y_test = 1\n",
    "                else:\n",
    "                    y_test = -1\n",
    "                if y_train_data[i] == y_test:\n",
    "                    acc += 1\n",
    "            print(\"accuracy:\", acc / 100.0)\n",
    "            plt.plot(loss_list)\n",
    "            plt.show()\n",
    "            \n",
    "\n",
    "def plot_graph(x_train_data, y_train_data, y_results):\n",
    "    fig, (ax1, ax2) = plt.subplots(ncols=2, figsize=(15, 4))\n",
    "    ax1.plot(x_train_data, y_results, color='red',)\n",
    "    ax1.plot(x_train_data, y_train_data, color='blue')\n",
    "    ax2.set_ylabel('loss')\n",
    "    ax2.plot(loss_list)\n",
    "    plt.show()"
   ]
  },
  {
   "cell_type": "code",
   "execution_count": null,
   "metadata": {
    "collapsed": false
   },
   "outputs": [],
   "source": [
    "label_train, features_train = build_iris(\"./data/iris_2class.txt\")\n",
    "learning_rate = 0.01\n",
    "epoch = 1\n",
    "loss_list = []\n",
    "x = tf.placeholder(shape=[None, 4], dtype=tf.float32)\n",
    "y = tf.placeholder(shape=[None, 1], dtype=tf.float32)\n",
    "run(x, y, learning_rate, epoch, 4, 30, '2_class', features_train, label_train)"
   ]
  }
 ],
 "metadata": {
  "kernelspec": {
   "display_name": "Python 2",
   "language": "python",
   "name": "python2"
  },
  "language_info": {
   "codemirror_mode": {
    "name": "ipython",
    "version": 2
   },
   "file_extension": ".py",
   "mimetype": "text/x-python",
   "name": "python",
   "nbconvert_exporter": "python",
   "pygments_lexer": "ipython2",
   "version": "2.7.6"
  }
 },
 "nbformat": 4,
 "nbformat_minor": 0
}
